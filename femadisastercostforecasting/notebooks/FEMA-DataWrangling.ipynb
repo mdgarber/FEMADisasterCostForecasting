{
 "cells": [
  {
   "cell_type": "code",
   "execution_count": 1,
   "id": "97960446-97e9-41b7-a3f4-4dbe95bfd82a",
   "metadata": {},
   "outputs": [],
   "source": [
    "# FEMA Disaster Cost Forecasting"
   ]
  },
  {
   "cell_type": "code",
   "execution_count": 6,
   "id": "05caf974-b5c6-4149-b707-61d6b2883f5c",
   "metadata": {},
   "outputs": [
    {
     "data": {
      "text/plain": [
       "'\\nData Collection\\nData Organization\\nData Definition\\nData Cleaning\\n'"
      ]
     },
     "execution_count": 6,
     "metadata": {},
     "output_type": "execute_result"
    }
   ],
   "source": [
    "'''\n",
    "High Level Steps\n",
    "---------------\n",
    "Data Collection\n",
    "Data Organization\n",
    "Data Definition\n",
    "Data Cleaning\n",
    "\n",
    "\n",
    "project template\n",
    "https://github.com/drivendata/cookiecutter-data-science\n",
    "'''"
   ]
  },
  {
   "cell_type": "code",
   "execution_count": null,
   "id": "5e48e685-3323-439d-b19e-7e767bbaf161",
   "metadata": {},
   "outputs": [],
   "source": [
    "#Data Collection\n",
    "\n",
    "#Top level FEMA data sets\n",
    "# https://www.fema.gov/about/openfema/data-sets\n",
    "\n",
    "#OpenFEMA Dataset: FEMA Web Disaster Declarations - v1\n",
    "# info - https://www.fema.gov/openfema-data-page/fema-web-disaster-declarations-v1\n",
    "# data - https://www.fema.gov/api/open/v1/FemaWebDisasterDeclarations.csv\n",
    "\n",
    "#OpenFEMA Dataset: FEMA Web Disaster Summaries - v1\n",
    "# info - https://www.fema.gov/openfema-data-page/fema-web-disaster-summaries-v1\n",
    "# data - https://www.fema.gov/api/open/v1/FemaWebDisasterSummaries.csv\n",
    "\n",
    "\n",
    "#ClimRR\n",
    "# info https://climrr.anl.gov/"
   ]
  }
 ],
 "metadata": {
  "kernelspec": {
   "display_name": "Python 3 (ipykernel)",
   "language": "python",
   "name": "python3"
  },
  "language_info": {
   "codemirror_mode": {
    "name": "ipython",
    "version": 3
   },
   "file_extension": ".py",
   "mimetype": "text/x-python",
   "name": "python",
   "nbconvert_exporter": "python",
   "pygments_lexer": "ipython3",
   "version": "3.11.8"
  }
 },
 "nbformat": 4,
 "nbformat_minor": 5
}
