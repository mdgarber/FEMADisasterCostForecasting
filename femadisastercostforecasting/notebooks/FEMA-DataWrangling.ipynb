{
 "cells": [
  {
   "cell_type": "markdown",
   "id": "dc36384f-712a-4400-8d0a-27c4f2a16a0c",
   "metadata": {
    "slideshow": {
     "slide_type": ""
    },
    "tags": []
   },
   "source": [
    "# FEMA Disaster Cost Forecasting\n",
    "#### Capstone 2 - Data Wrangling\n",
    "Michael Garber\n",
    "\n"
   ]
  },
  {
   "cell_type": "markdown",
   "id": "0b307608-d81c-4323-ba00-92c63dd20b6e",
   "metadata": {
    "editable": true,
    "slideshow": {
     "slide_type": ""
    },
    "tags": []
   },
   "source": [
    "\n",
    "#### Data Wrangling High-Level Steps\n",
    "1. Data Collection\n",
    "2. Data Organization\n",
    "3. Data Definition\n",
    "4. Data Cleaning\n"
   ]
  },
  {
   "cell_type": "markdown",
   "id": "908832bd-bd1f-48b7-9ee2-c20e204c53c4",
   "metadata": {},
   "source": [
    "#### Data Collection\n",
    "\n",
    "\n",
    "Top level FEMA data sets\n",
    "- [https://www.fema.gov/about/openfema/data-sets](https://www.fema.gov/about/openfema/data-sets)\n",
    "\n",
    "OpenFEMA Dataset: FEMA Web Disaster Declarations - v1\n",
    "- info [https://www.fema.gov/openfema-data-page/fema-web-disaster-declarations-v1](https://www.fema.gov/openfema-data-page/fema-web-disaster-declarations-v1) \\\n",
    "- data [https://www.fema.gov/api/open/v1/FemaWebDisasterDeclarations.csv](https://www.fema.gov/api/open/v1/FemaWebDisasterDeclarations.csv)\n",
    "\n",
    "OpenFEMA Dataset: FEMA Web Disaster Summaries - v1\n",
    "- info [https://www.fema.gov/openfema-data-page/fema-web-disaster-summaries-v1](https://www.fema.gov/openfema-data-page/fema-web-disaster-summaries-v1) \\\n",
    "- data [https://www.fema.gov/api/open/v1/FemaWebDisasterSummaries.csv](https://www.fema.gov/api/open/v1/FemaWebDisasterSummaries.csv)\n",
    "\n",
    "ClimRR\n",
    "- info [https://climrr.anl.gov/](https://climrr.anl.gov/) \\\n",
    "*just a reference - may be used for climate prediction data if needed*"
   ]
  },
  {
   "cell_type": "code",
   "execution_count": 4,
   "id": "0d6f94b0-f1d7-41ee-981f-24574274bb58",
   "metadata": {
    "tags": []
   },
   "outputs": [],
   "source": [
    "#Import packages\n",
    "import pandas as pd\n",
    "import requests\n",
    "import os"
   ]
  },
  {
   "cell_type": "code",
   "execution_count": 5,
   "id": "5e48e685-3323-439d-b19e-7e767bbaf161",
   "metadata": {},
   "outputs": [
    {
     "ename": "FileNotFoundError",
     "evalue": "[Errno 2] No such file or directory: '../data/raw/FemaWebDisasterDeclarations.csv'",
     "output_type": "error",
     "traceback": [
      "\u001b[1;31m---------------------------------------------------------------------------\u001b[0m",
      "\u001b[1;31mFileNotFoundError\u001b[0m                         Traceback (most recent call last)",
      "Cell \u001b[1;32mIn[5], line 10\u001b[0m\n\u001b[0;32m      8\u001b[0m \u001b[38;5;66;03m#Download Disaster Info data locally\u001b[39;00m\n\u001b[0;32m      9\u001b[0m r \u001b[38;5;241m=\u001b[39m requests\u001b[38;5;241m.\u001b[39mget(disasterInfoUrl)\n\u001b[1;32m---> 10\u001b[0m \u001b[38;5;28;01mwith\u001b[39;00m \u001b[38;5;28mopen\u001b[39m(femaInfoPath, \u001b[38;5;124m'\u001b[39m\u001b[38;5;124mwb\u001b[39m\u001b[38;5;124m'\u001b[39m) \u001b[38;5;28;01mas\u001b[39;00m f:\n\u001b[0;32m     11\u001b[0m     f\u001b[38;5;241m.\u001b[39mwrite(r\u001b[38;5;241m.\u001b[39mcontent)\n\u001b[0;32m     13\u001b[0m \u001b[38;5;66;03m#Download Disaster Cost data locally\u001b[39;00m\n",
      "File \u001b[1;32m~\\anaconda3\\Lib\\site-packages\\IPython\\core\\interactiveshell.py:310\u001b[0m, in \u001b[0;36m_modified_open\u001b[1;34m(file, *args, **kwargs)\u001b[0m\n\u001b[0;32m    303\u001b[0m \u001b[38;5;28;01mif\u001b[39;00m file \u001b[38;5;129;01min\u001b[39;00m {\u001b[38;5;241m0\u001b[39m, \u001b[38;5;241m1\u001b[39m, \u001b[38;5;241m2\u001b[39m}:\n\u001b[0;32m    304\u001b[0m     \u001b[38;5;28;01mraise\u001b[39;00m \u001b[38;5;167;01mValueError\u001b[39;00m(\n\u001b[0;32m    305\u001b[0m         \u001b[38;5;124mf\u001b[39m\u001b[38;5;124m\"\u001b[39m\u001b[38;5;124mIPython won\u001b[39m\u001b[38;5;124m'\u001b[39m\u001b[38;5;124mt let you open fd=\u001b[39m\u001b[38;5;132;01m{\u001b[39;00mfile\u001b[38;5;132;01m}\u001b[39;00m\u001b[38;5;124m by default \u001b[39m\u001b[38;5;124m\"\u001b[39m\n\u001b[0;32m    306\u001b[0m         \u001b[38;5;124m\"\u001b[39m\u001b[38;5;124mas it is likely to crash IPython. If you know what you are doing, \u001b[39m\u001b[38;5;124m\"\u001b[39m\n\u001b[0;32m    307\u001b[0m         \u001b[38;5;124m\"\u001b[39m\u001b[38;5;124myou can use builtins\u001b[39m\u001b[38;5;124m'\u001b[39m\u001b[38;5;124m open.\u001b[39m\u001b[38;5;124m\"\u001b[39m\n\u001b[0;32m    308\u001b[0m     )\n\u001b[1;32m--> 310\u001b[0m \u001b[38;5;28;01mreturn\u001b[39;00m io_open(file, \u001b[38;5;241m*\u001b[39margs, \u001b[38;5;241m*\u001b[39m\u001b[38;5;241m*\u001b[39mkwargs)\n",
      "\u001b[1;31mFileNotFoundError\u001b[0m: [Errno 2] No such file or directory: '../data/raw/FemaWebDisasterDeclarations.csv'"
     ]
    }
   ],
   "source": [
    "#Data Download locations\n",
    "disasterInfoUrl = 'https://www.fema.gov/api/open/v1/FemaWebDisasterDeclarations.csv'\n",
    "disasterCostUrl = 'https://www.fema.gov/api/open/v1/FemaWebDisasterSummaries.csv'\n",
    "rawDataDir = '../data/raw/'\n",
    "femaInfoPath = rawDataDir + 'FemaWebDisasterDeclarations.csv'\n",
    "femaCostPath = rawDataDir + 'FemaWebDisasterSummaries.csv'\n",
    "\n",
    "#Download Disaster Info data locally\n",
    "r = requests.get(disasterInfoUrl)\n",
    "with open(femaInfoPath, 'wb') as f:\n",
    "    f.write(r.content)\n",
    "\n",
    "#Download Disaster Cost data locally\n",
    "r = requests.get(disasterCostUrl)\n",
    "with open(femaCostPath, 'wb') as f:\n",
    "    f.write(r.content)"
   ]
  },
  {
   "cell_type": "code",
   "execution_count": null,
   "id": "b4cb34e4-3631-4cef-ab11-5712f922b61c",
   "metadata": {},
   "outputs": [],
   "source": [
    "#Loading to pandas dataframe\n",
    "\n",
    "#Load FEMA disaster info data\n",
    "femaInfo = pd.read_csv(femaInfoPath)\n",
    "\n",
    "#Load FEMA disaster cost (federal financial assistance) data\n",
    "femaCosts = pd.read_csv(femaCostPath)"
   ]
  },
  {
   "cell_type": "code",
   "execution_count": null,
   "id": "28a44d77-3e26-4653-b21a-34769c53c019",
   "metadata": {},
   "outputs": [],
   "source": [
    "#check loaded data shape\n",
    "print(\"femaInfo rows, cols: \" + str(femaInfo.shape))\n",
    "print(\"femaCosts rows, cols: \" + str(femaCosts.shape))"
   ]
  },
  {
   "cell_type": "code",
   "execution_count": null,
   "id": "9f2ff8a5-c0e3-45c2-bc16-de8cfb364e5b",
   "metadata": {},
   "outputs": [],
   "source": [
    "#check the head - fema info\n",
    "femaInfo.head()"
   ]
  },
  {
   "cell_type": "code",
   "execution_count": null,
   "id": "dc9eb7a4-2388-4e1e-8303-99c420e1282f",
   "metadata": {},
   "outputs": [],
   "source": [
    "#check the head - fema costs\n",
    "femaCosts.head()"
   ]
  },
  {
   "cell_type": "code",
   "execution_count": null,
   "id": "c104d593-7015-45ad-a420-664d78d6f04a",
   "metadata": {},
   "outputs": [],
   "source": [
    "#Pre-join check\n",
    "\n",
    "#check that join fields are unique before join - femainfo.disasterNumber\n",
    "print(\"disaster number is all unique (femaInfo)? \" + str(len(femaInfo) == femaInfo['disasterNumber'].nunique()))\n",
    "\n",
    "#check that join fields are unique before join - femacosts.disasterNumber\n",
    "print(\"disaster number is all unique (femaCosts)? \" + str(len(femaCosts) == femaCosts['disasterNumber'].nunique()))\n"
   ]
  },
  {
   "cell_type": "code",
   "execution_count": null,
   "id": "9a183e75-c632-4c48-b87a-a18b77a02eaa",
   "metadata": {},
   "outputs": [],
   "source": [
    "#Data Joining - femaInfo & femaCosts \n",
    "print(\"Rows in femaInfo: \" + str(len(femaInfo)))\n",
    "print(\"Rows in femaInfo: \" + str(len(femaCosts)))\n",
    "print(\"*Note: There are more rows in the disaster [info] dataset than the disaster [costs],\" + '\\n' + \"this suggests some disasters do not have cost info. Perhaps there was no requests to FEMA made.\")"
   ]
  },
  {
   "cell_type": "code",
   "execution_count": null,
   "id": "42cab9ad-5d60-4b81-b864-26cf31917acc",
   "metadata": {},
   "outputs": [],
   "source": [
    "#Join disaster info with disaster costs via the 'disaster info' column\n",
    "femaMasterData = pd.merge(femaInfo, femaCosts, how='left', on='disasterNumber')\n",
    "\n",
    "#check joined data set\n",
    "print(\"(Rows, columns) in femaInfo\" + '\\n' + str(femaMasterData.shape))\n",
    "femaMasterData.head()"
   ]
  },
  {
   "cell_type": "markdown",
   "id": "5a3f113c-862a-4d40-98be-3f6146ede65a",
   "metadata": {},
   "source": [
    "#### Data Organization\n",
    "Project file structure based on the cookiecutter data science template. \\\n",
    "[https://drivendata.github.io/cookiecutter-data-science/](https://drivendata.github.io/cookiecutter-data-science/)\n",
    "\n",
    "Folder structure tree (GitHub) \\\n",
    "[https://github.com/mdgarber/FEMADisasterCostForecasting/blob/acc1f9a68773c3fa7b87325f7fb814c049f03306/femadisastercostforecasting/README.md](https://github.com/mdgarber/FEMADisasterCostForecasting/blob/acc1f9a68773c3fa7b87325f7fb814c049f03306/femadisastercostforecasting/README.md)"
   ]
  },
  {
   "cell_type": "markdown",
   "id": "9a2724d7-ae43-4ca1-8cac-73b830e3629b",
   "metadata": {},
   "source": [
    "#### Data Definition\n",
    "\n",
    "Column names\n",
    "- Data types\n",
    "- Description of the columns\n",
    "- Counts and percents unique values\n",
    "- Ranges of values\n",
    "- Calc Summary statistics"
   ]
  },
  {
   "cell_type": "code",
   "execution_count": null,
   "id": "35e0b844-a80c-4d20-84dc-2386e72060d1",
   "metadata": {},
   "outputs": [],
   "source": [
    "#Check Data types,  unique values, range of index\n",
    "femaMasterData.info(verbose=True)"
   ]
  },
  {
   "cell_type": "markdown",
   "id": "615ea631-507e-4b00-913f-02e5c17b594e",
   "metadata": {},
   "source": [
    "##### Description of the columns\n",
    "femaInfo\n",
    "- [https://www.fema.gov/openfema-data-page/fema-web-disaster-declarations-v1](https://www.fema.gov/openfema-data-page/fema-web-disaster-declarations-v1)\n",
    "\n",
    "femaCosts\n",
    "- [https://www.fema.gov/openfema-data-page/fema-web-disaster-summaries-v1](https://www.fema.gov/openfema-data-page/fema-web-disaster-summaries-v1)"
   ]
  },
  {
   "cell_type": "code",
   "execution_count": null,
   "id": "bd61bebb-7ecf-4854-be9f-7cacbeb00d2e",
   "metadata": {},
   "outputs": [],
   "source": [
    "#Value counts for important categorical-like fields\n",
    "print('\\n======== declarationType ========')\n",
    "print(femaMasterData['declarationType'].value_counts())\n",
    "\n",
    "print('\\n======== stateCode ========')\n",
    "print(femaMasterData['stateCode'].value_counts())\n",
    "\n",
    "print('\\n======== stateName ========')\n",
    "print(femaMasterData['stateName'].value_counts())\n",
    "\n",
    "print('\\n======== incidentType ========')\n",
    "print(femaMasterData['incidentType'].value_counts())\n",
    "\n",
    "print('\\n======== region ========')\n",
    "print(femaMasterData['region'].value_counts())\n",
    "\n",
    "femaMasterData['declarationType'].value_counts()\n"
   ]
  },
  {
   "cell_type": "code",
   "execution_count": null,
   "id": "ede7dea5-5d7a-4659-af0d-b455e480f5e8",
   "metadata": {},
   "outputs": [],
   "source": [
    "#Calc Summary statistics - 1\n",
    "femaMasterData.describe()"
   ]
  },
  {
   "cell_type": "markdown",
   "id": "0fadfb33-8560-4bb9-8403-6a04d2d84efa",
   "metadata": {},
   "source": [
    "#### Data Cleaning\n",
    "\n",
    "- Data set contains values for all rows (4865) that appear to be needed for analysis except for some of the costs\n",
    "- \"totalAmount..\" and \"totalObligated...\" fields will be set to 0 as most of them represent money (in USD) spent or authorized for spending\n",
    "- Duplicates for disasterNumber checked in pre-join steps"
   ]
  },
  {
   "cell_type": "code",
   "execution_count": null,
   "id": "853526cf-135a-4d5a-9a96-ee67fc7324bd",
   "metadata": {},
   "outputs": [],
   "source": [
    "#missing or NA values (cost values should not be null...setting to zero)\n",
    "femaMasterData['totalNumberIaApproved'].fillna(0, inplace=True)\n",
    "femaMasterData['totalAmountHaApproved'].fillna(0, inplace=True)\n",
    "femaMasterData['totalAmountIhpApproved'].fillna(0, inplace=True)\n",
    "femaMasterData['totalAmountOnaApproved'].fillna(0, inplace=True)\n",
    "femaMasterData['totalObligatedAmountPa'].fillna(0, inplace=True)\n",
    "femaMasterData['totalObligatedAmountCatAb'].fillna(0, inplace=True)\n",
    "femaMasterData['totalObligatedAmountCatC2g'].fillna(0, inplace=True)\n",
    "femaMasterData['totalObligatedAmountHmgp'].fillna(0, inplace=True)\n",
    "\n",
    "#drop columns\n",
    "#...will drop after EDA so that I confirm which fields aren't useful"
   ]
  },
  {
   "cell_type": "code",
   "execution_count": null,
   "id": "9d566d33-3f87-47c6-b14f-adc1a1e6e5bf",
   "metadata": {},
   "outputs": [],
   "source": [
    "#check that the \"total...\" fields are no longer NULL/NaN\n",
    "femaMasterData.info()"
   ]
  },
  {
   "cell_type": "code",
   "execution_count": null,
   "id": "a6f97a64-4cd2-4b2e-ad55-4fa6157b7ce1",
   "metadata": {
    "tags": []
   },
   "outputs": [],
   "source": [
    "#Export cleaned df to file\n"
   ]
  }
 ],
 "metadata": {
  "kernelspec": {
   "display_name": "Python 3 (ipykernel)",
   "language": "python",
   "name": "python3"
  },
  "language_info": {
   "codemirror_mode": {
    "name": "ipython",
    "version": 3
   },
   "file_extension": ".py",
   "mimetype": "text/x-python",
   "name": "python",
   "nbconvert_exporter": "python",
   "pygments_lexer": "ipython3",
   "version": "3.11.7"
  }
 },
 "nbformat": 4,
 "nbformat_minor": 5
}
