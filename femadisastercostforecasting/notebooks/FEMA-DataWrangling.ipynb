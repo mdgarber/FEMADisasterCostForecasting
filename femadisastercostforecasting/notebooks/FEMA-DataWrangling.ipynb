{
 "cells": [
  {
   "cell_type": "code",
   "execution_count": 1,
   "id": "97960446-97e9-41b7-a3f4-4dbe95bfd82a",
   "metadata": {},
   "outputs": [],
   "source": [
    "# FEMA Disaster Cost Forecasting"
   ]
  },
  {
   "cell_type": "code",
   "execution_count": 2,
   "id": "12b83f6e-e91a-4203-b0e2-45cf6d1e1db7",
   "metadata": {
    "tags": []
   },
   "outputs": [],
   "source": [
    "import pandas as pd\n",
    "import requests\n",
    "import os"
   ]
  },
  {
   "cell_type": "code",
   "execution_count": 3,
   "id": "05caf974-b5c6-4149-b707-61d6b2883f5c",
   "metadata": {},
   "outputs": [
    {
     "data": {
      "text/plain": [
       "'\\nHigh Level Steps\\n---------------\\nData Collection\\nData Organization\\nData Definition\\nData Cleaning\\n\\n\\nproject template\\nhttps://github.com/drivendata/cookiecutter-data-science\\n'"
      ]
     },
     "execution_count": 3,
     "metadata": {},
     "output_type": "execute_result"
    }
   ],
   "source": [
    "'''\n",
    "High Level Steps\n",
    "---------------\n",
    "Data Collection\n",
    "Data Organization\n",
    "Data Definition\n",
    "Data Cleaning\n",
    "\n",
    "\n",
    "project template\n",
    "https://github.com/drivendata/cookiecutter-data-science\n",
    "'''"
   ]
  },
  {
   "cell_type": "code",
   "execution_count": 4,
   "id": "5e48e685-3323-439d-b19e-7e767bbaf161",
   "metadata": {},
   "outputs": [],
   "source": [
    "#Data Collection\n",
    "\n",
    "#Top level FEMA data sets\n",
    "# https://www.fema.gov/about/openfema/data-sets\n",
    "\n",
    "#OpenFEMA Dataset: FEMA Web Disaster Declarations - v1\n",
    "# info - https://www.fema.gov/openfema-data-page/fema-web-disaster-declarations-v1\n",
    "# data - https://www.fema.gov/api/open/v1/FemaWebDisasterDeclarations.csv\n",
    "disasterInfoUrl = 'https://www.fema.gov/api/open/v1/FemaWebDisasterDeclarations.csv'\n",
    "\n",
    "#OpenFEMA Dataset: FEMA Web Disaster Summaries - v1\n",
    "# info - https://www.fema.gov/openfema-data-page/fema-web-disaster-summaries-v1\n",
    "# data - https://www.fema.gov/api/open/v1/FemaWebDisasterSummaries.csv\n",
    "disasterCostUrl = 'https://www.fema.gov/api/open/v1/FemaWebDisasterSummaries.csv'\n",
    "\n",
    "#ClimRR\n",
    "# info https://climrr.anl.gov/"
   ]
  },
  {
   "cell_type": "code",
   "execution_count": 5,
   "id": "91006fd4-4366-4a6f-8640-b437958995cd",
   "metadata": {},
   "outputs": [],
   "source": [
    "#Data Download location\n",
    "rawDataDir = '../data/raw/'\n",
    "femaInfoPath = rawDataDir + 'FemaWebDisasterDeclarations.csv'\n",
    "femaCostPath = rawDataDir + 'FemaWebDisasterSummaries.csv'\n",
    "\n",
    "#Download Disaster Info data\n",
    "r = requests.get(disasterInfoUrl)\n",
    "with open(femaInfoPath, 'wb') as f:\n",
    "    f.write(r.content)\n",
    "\n",
    "#Download Disaster Cost data\n",
    "r = requests.get(disasterCostUrl)\n",
    "with open(femaCostPath, 'wb') as f:\n",
    "    f.write(r.content)"
   ]
  },
  {
   "cell_type": "code",
   "execution_count": 6,
   "id": "b4cb34e4-3631-4cef-ab11-5712f922b61c",
   "metadata": {},
   "outputs": [],
   "source": [
    "#Data Loading\n",
    "\n",
    "#Load FEMA info data\n",
    "femaInfo = pd.read_csv(femaInfoPath)\n",
    "\n",
    "#Load FEMA cost data\n",
    "femaCosts = pd.read_csv(femaCostPath)"
   ]
  },
  {
   "cell_type": "code",
   "execution_count": 10,
   "id": "16425077-9154-4d4e-ba36-56c50216bb25",
   "metadata": {},
   "outputs": [
    {
     "name": "stdout",
     "output_type": "stream",
     "text": [
      "   closeoutDate  declarationDate  declarationType  disasterName  \\\n",
      "0           NaN              NaN              NaN           NaN   \n",
      "1           NaN              NaN              NaN           NaN   \n",
      "2           NaN              NaN              NaN           NaN   \n",
      "3           NaN              NaN              NaN           NaN   \n",
      "4           NaN              NaN              NaN           NaN   \n",
      "\n",
      "   disasterNumber  entryDate  \\\n",
      "0            8335        NaN   \n",
      "1            8340        NaN   \n",
      "2            6011        NaN   \n",
      "3            6015        NaN   \n",
      "4            4694        NaN   \n",
      "\n",
      "                                                hash  hmProgramDeclared  \\\n",
      "0  b2327cb14c124443d7e00b898be990718576195f3de68b...                NaN   \n",
      "1  3b10fdf0c825cd0bc81e6f83955c85d9b32057e558566c...                NaN   \n",
      "2  314ca84418ff5016ef5c0fc7a1e32a6106b7e18b1ba476...                NaN   \n",
      "3  96fe8a62931b20e70e8a1779545c9467c66d29f8bb3c5c...                NaN   \n",
      "4  87732b7d7d5a424fad84c04f5edf0bff4e860f50fbe5b8...                NaN   \n",
      "\n",
      "   iaLoadDate  iaProgramDeclared  ... stateName  totalAmountHaApproved  \\\n",
      "0         NaN                NaN  ...       NaN                    NaN   \n",
      "1         NaN                NaN  ...       NaN                    NaN   \n",
      "2         NaN                NaN  ...       NaN                    NaN   \n",
      "3         NaN                NaN  ...       NaN                    NaN   \n",
      "4         NaN                NaN  ...       NaN                    NaN   \n",
      "\n",
      "   totalAmountIhpApproved  totalAmountOnaApproved  totalNumberIaApproved  \\\n",
      "0                     NaN                     NaN                    NaN   \n",
      "1                     NaN                     NaN                    NaN   \n",
      "2                     NaN                     NaN                    NaN   \n",
      "3                     NaN                     NaN                    NaN   \n",
      "4                     NaN                     NaN                    NaN   \n",
      "\n",
      "  totalObligatedAmountCatAb  totalObligatedAmountCatC2g  \\\n",
      "0                       NaN                         NaN   \n",
      "1                       NaN                         NaN   \n",
      "2                       NaN                         NaN   \n",
      "3                       NaN                         NaN   \n",
      "4                       NaN                         NaN   \n",
      "\n",
      "   totalObligatedAmountHmgp  totalObligatedAmountPa  updateDate  \n",
      "0                       NaN                     NaN         NaN  \n",
      "1                       NaN                     NaN         NaN  \n",
      "2                       NaN                     NaN         NaN  \n",
      "3                       NaN                     NaN         NaN  \n",
      "4                       NaN                     NaN         NaN  \n",
      "\n",
      "[5 rows x 30 columns]\n"
     ]
    }
   ],
   "source": [
    "#check loaded data head\n",
    "print(femaInfo.head() + femaCosts.head())"
   ]
  },
  {
   "cell_type": "code",
   "execution_count": 34,
   "id": "28a44d77-3e26-4653-b21a-34769c53c019",
   "metadata": {},
   "outputs": [
    {
     "name": "stdout",
     "output_type": "stream",
     "text": [
      "femaInfo rows, cols: (4865, 20)\n",
      "femaCosts rows, cols: (3621, 14)\n"
     ]
    }
   ],
   "source": [
    "#check loaded data head\n",
    "print(\"femaInfo rows, cols: \" + str(femaInfo.shape))\n",
    "print(\"femaCosts rows, cols: \" + str(femaCosts.shape))\n",
    "#femaCosts.columns"
   ]
  },
  {
   "cell_type": "code",
   "execution_count": 8,
   "id": "c104d593-7015-45ad-a420-664d78d6f04a",
   "metadata": {},
   "outputs": [],
   "source": [
    "#Data Joining\n"
   ]
  }
 ],
 "metadata": {
  "kernelspec": {
   "display_name": "Python 3 (ipykernel)",
   "language": "python",
   "name": "python3"
  },
  "language_info": {
   "codemirror_mode": {
    "name": "ipython",
    "version": 3
   },
   "file_extension": ".py",
   "mimetype": "text/x-python",
   "name": "python",
   "nbconvert_exporter": "python",
   "pygments_lexer": "ipython3",
   "version": "3.11.5"
  }
 },
 "nbformat": 4,
 "nbformat_minor": 5
}
