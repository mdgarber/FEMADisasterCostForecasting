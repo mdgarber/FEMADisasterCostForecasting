{
 "cells": [
  {
   "cell_type": "markdown",
   "id": "19aa06a1-60e3-494d-a7fe-f227da3a2bdc",
   "metadata": {},
   "source": [
    "# FEMA Disaster Cost Forecasting\n",
    "#### Capstone 2 - Pre-processing and Training Data Development\n",
    "Michael Garber\n",
    "\n",
    "\n",
    "* NOTE: Please run notebooks (below) before this one to create data needed.\n",
    "    * On Github \n",
    "        * > [FEMA-DataWrangling.ipynb on Github](https://github.com/mdgarber/FEMADisasterCostForecasting/blob/ef70129c4bf06a38b13c61e1254fdb6a3105486b/femadisastercostforecasting/notebooks/FEMA-DataWrangling.ipynb)\n",
    "        * > [FEMA-EDA.ipynb on Github](https://github.com/mdgarber/FEMADisasterCostForecasting/blob/ef70129c4bf06a38b13c61e1254fdb6a3105486b/femadisastercostforecasting/notebooks/FEMA-EDA.ipynb)\n",
    "    * OR local path\n",
    "        * > /FEMADisasterCostForecasting/femadisastercostforecasting/notebooks/FEMA-DataWrangling.ipynb\n",
    "        * > /FEMADisasterCostForecasting/femadisastercostforecasting/notebooks/FEMA-EDA.ipynb\n",
    "\n"
   ]
  },
  {
   "cell_type": "markdown",
   "id": "bb0182cf-2716-426d-9887-d96c2aae505d",
   "metadata": {
    "tags": []
   },
   "source": [
    "#### Pre-processing and Training Data Development High-Level Steps\n",
    "1. Creating dummy features\n",
    "2. Scale standardization\n",
    "3. Split data into training and testing subsets\n",
    "\n",
    "Goal: Create a cleaned development dataset you can use to complete the\n",
    "modeling step of your project."
   ]
  },
  {
   "cell_type": "markdown",
   "id": "0cbcf071-c83f-44a7-b213-068ee6f0e609",
   "metadata": {},
   "source": [
    "## Step 0 - Import libraries & load & clean data"
   ]
  },
  {
   "cell_type": "code",
   "execution_count": 4,
   "id": "542ecb21-888f-4e04-a6cd-563786abff4f",
   "metadata": {
    "tags": []
   },
   "outputs": [],
   "source": [
    "# import libraries\n",
    "import pandas as pd\n",
    "import numpy as np\n",
    "from IPython.display import display\n",
    "from sklearn.preprocessing import StandardScaler\n",
    "from sklearn.model_selection import train_test_split\n",
    "from matplotlib import pyplot as plt"
   ]
  },
  {
   "cell_type": "code",
   "execution_count": 5,
   "id": "af6fd217-153b-4731-893b-3599ed08cc12",
   "metadata": {
    "tags": []
   },
   "outputs": [],
   "source": [
    "# load data\n",
    "femaDataCleanV2 = pd.read_csv('../data/interim/femaDataCleanV2.csv')"
   ]
  },
  {
   "cell_type": "code",
   "execution_count": 6,
   "id": "f4e3b80a-cd0e-446a-b7cc-321123bb5670",
   "metadata": {
    "tags": []
   },
   "outputs": [],
   "source": [
    "# Clean data\n",
    "\n",
    "# Create new V3 df & Set index to disasterNumber\n",
    "femaDataCleanV3 = femaDataCleanV2.set_index('disasterNumber')\n",
    "\n",
    "# drop useless columns: 'unnamed: 0', etc\n",
    "femaDataCleanV3.drop(['Unnamed: 0'], axis=1, inplace=True)"
   ]
  },
  {
   "cell_type": "markdown",
   "id": "0196bf5f-f795-406e-bed5-9c94e62ed0bd",
   "metadata": {
    "tags": []
   },
   "source": [
    "## Step 1 - Creating Dummy Features"
   ]
  },
  {
   "cell_type": "code",
   "execution_count": 8,
   "id": "6f336976-20d8-4f2f-aaeb-ec19a0971376",
   "metadata": {
    "tags": []
   },
   "outputs": [
    {
     "name": "stdout",
     "output_type": "stream",
     "text": [
      "Index(['declarationDate', 'disasterName', 'incidentBeginDate',\n",
      "       'incidentEndDate', 'declarationType', 'stateCode', 'stateName',\n",
      "       'incidentType', 'entryDate', 'updateDate', 'closeoutDate', 'region',\n",
      "       'ihProgramDeclared', 'iaProgramDeclared', 'paProgramDeclared',\n",
      "       'hmProgramDeclared', 'designatedIncidentTypes',\n",
      "       'declarationRequestDate', 'id_x', 'hash_x', 'lastRefresh_x',\n",
      "       'totalNumberIaApproved', 'totalAmountIhpApproved',\n",
      "       'totalAmountHaApproved', 'totalAmountOnaApproved',\n",
      "       'totalObligatedAmountPa', 'totalObligatedAmountCatAb',\n",
      "       'totalObligatedAmountCatC2g', 'paLoadDate', 'iaLoadDate',\n",
      "       'totalObligatedAmountHmgp', 'hash_y', 'lastRefresh_y', 'id_y',\n",
      "       'totalDisasterCost'],\n",
      "      dtype='object')\n"
     ]
    }
   ],
   "source": [
    "# view all columns\n",
    "print(femaDataCleanV3.columns)"
   ]
  },
  {
   "cell_type": "markdown",
   "id": "cd6103a0-fc24-46af-baad-ed94940544a5",
   "metadata": {
    "tags": []
   },
   "source": [
    "__Choosen categorical variables__\n",
    "- incidentType\n",
    "- stateCode\n",
    "- region\n",
    "- ihProgramDeclared (already a boolean)\n",
    "- iaProgramDeclared (already a boolean)\n",
    "- paProgramDeclared (already a boolean)\n",
    "- hmProgramDeclared (already a boolean)\n",
    "- designatedIncidentTypes * multi-value field *"
   ]
  },
  {
   "cell_type": "code",
   "execution_count": 10,
   "id": "7713d6cd-c4ee-4854-8069-f03d4545eee7",
   "metadata": {
    "tags": []
   },
   "outputs": [
    {
     "data": {
      "text/plain": [
       "incidentType           0\n",
       "stateCode              0\n",
       "region                 0\n",
       "ihProgramDeclared    251\n",
       "iaProgramDeclared    251\n",
       "paProgramDeclared    251\n",
       "hmProgramDeclared    251\n",
       "dtype: int64"
      ]
     },
     "execution_count": 10,
     "metadata": {},
     "output_type": "execute_result"
    }
   ],
   "source": [
    "#check for NULLs\n",
    "femaDataCleanV3[['incidentType', 'stateCode', 'region','ihProgramDeclared', 'iaProgramDeclared', 'paProgramDeclared', 'hmProgramDeclared']].isnull().sum()"
   ]
  },
  {
   "cell_type": "markdown",
   "id": "fd80de45-25e3-431f-a0ca-76ee8a8f32b9",
   "metadata": {},
   "source": [
    "__Fields with NULLs found__\n",
    "- ihProgramDeclared\n",
    "- iaProgramDeclared\n",
    "- paProgramDeclared\n",
    "- hmProgramDeclared"
   ]
  },
  {
   "cell_type": "code",
   "execution_count": 12,
   "id": "77da8323-19a2-4db2-87ca-e6c30468e809",
   "metadata": {
    "tags": []
   },
   "outputs": [],
   "source": [
    "#Handle NULLS for categorical features\n",
    "nullCols = {'ihProgramDeclared': 0, 'iaProgramDeclared': 0, 'paProgramDeclared': 0, 'hmProgramDeclared': 0}\n",
    "femaDataCleanV3 = femaDataCleanV3.fillna(value=nullCols)"
   ]
  },
  {
   "cell_type": "code",
   "execution_count": 13,
   "id": "9a1d0ce4-78ef-4fc4-b420-9b772ec69b47",
   "metadata": {
    "tags": []
   },
   "outputs": [
    {
     "data": {
      "text/plain": [
       "ihProgramDeclared    0\n",
       "iaProgramDeclared    0\n",
       "paProgramDeclared    0\n",
       "hmProgramDeclared    0\n",
       "dtype: int64"
      ]
     },
     "execution_count": 13,
     "metadata": {},
     "output_type": "execute_result"
    }
   ],
   "source": [
    "#check for NULLs after fillna\n",
    "femaDataCleanV3[['ihProgramDeclared', 'iaProgramDeclared', 'paProgramDeclared', 'hmProgramDeclared']].isnull().sum()"
   ]
  },
  {
   "cell_type": "code",
   "execution_count": 14,
   "id": "fb82a697-ad77-40ac-aac6-651e789e62fe",
   "metadata": {
    "tags": []
   },
   "outputs": [],
   "source": [
    "# Create Dummies for incidentType, stateCode, region\n",
    "femaDataCleanV3 = pd.get_dummies(femaDataCleanV3, columns=['incidentType', 'stateCode', 'region'])"
   ]
  },
  {
   "cell_type": "code",
   "execution_count": 15,
   "id": "a08d196c-6adb-4346-8a12-26dcb8d2efcc",
   "metadata": {
    "tags": []
   },
   "outputs": [],
   "source": [
    "# Update Dummy fields for designatedIncidentTypes ?\n",
    "# nah..."
   ]
  },
  {
   "cell_type": "code",
   "execution_count": 16,
   "id": "5a65d104-fba0-49b2-9463-190e92404f36",
   "metadata": {
    "jupyter": {
     "source_hidden": true
    },
    "tags": []
   },
   "outputs": [
    {
     "data": {
      "text/plain": [
       "'\\n0: Not applicable\\n1: Explosion\\n2: Straight-Line Winds\\n3: Tidal Wave\\n4: Tropical Storm\\n5: Winter Storm\\n8: Tropical Depression\\nA: Tsunami\\nB: Biological\\nC: Coastal Storm\\nD: Drought\\nE: Earthquake\\nF: Flood\\nG: Freezing\\nH: Hurricane\\nI: Terrorist\\nJ: Typhoon\\nK: Dam/Levee Break\\nL: Chemical\\nM: Mud/Landslide\\nN: Nuclear\\nO: Severe Ice Storm\\nP: Fishing Losses\\nQ: Crop Losses\\nR: Fire\\nS: Snowstorm\\nT: Tornado\\nU: Civil Unrest\\nV: Volcanic Eruption\\nW: Severe Storm\\nX: Toxic Substances\\nY: Human Cause\\nZ: Other\\n'"
      ]
     },
     "execution_count": 16,
     "metadata": {},
     "output_type": "execute_result"
    }
   ],
   "source": [
    "# designatedIncidentTypes Key\n",
    "'''\n",
    "0: Not applicable\n",
    "1: Explosion\n",
    "2: Straight-Line Winds\n",
    "3: Tidal Wave\n",
    "4: Tropical Storm\n",
    "5: Winter Storm\n",
    "8: Tropical Depression\n",
    "A: Tsunami\n",
    "B: Biological\n",
    "C: Coastal Storm\n",
    "D: Drought\n",
    "E: Earthquake\n",
    "F: Flood\n",
    "G: Freezing\n",
    "H: Hurricane\n",
    "I: Terrorist\n",
    "J: Typhoon\n",
    "K: Dam/Levee Break\n",
    "L: Chemical\n",
    "M: Mud/Landslide\n",
    "N: Nuclear\n",
    "O: Severe Ice Storm\n",
    "P: Fishing Losses\n",
    "Q: Crop Losses\n",
    "R: Fire\n",
    "S: Snowstorm\n",
    "T: Tornado\n",
    "U: Civil Unrest\n",
    "V: Volcanic Eruption\n",
    "W: Severe Storm\n",
    "X: Toxic Substances\n",
    "Y: Human Cause\n",
    "Z: Other\n",
    "'''"
   ]
  },
  {
   "cell_type": "markdown",
   "id": "360bcf69-25cc-4aa5-9a18-442f86bc24b2",
   "metadata": {},
   "source": [
    "## Step 2 - Scale Standardization"
   ]
  },
  {
   "cell_type": "markdown",
   "id": "90d29f86-6bf0-4685-ba01-3b94d74a2734",
   "metadata": {},
   "source": [
    "__Fields to Standard Scale__\n",
    "- totalAmountIhpApproved\n",
    "- totalAmountHaApproved\n",
    "- totalAmountOnaApproved\n",
    "- totalObligatedAmountPa\n",
    "- totalObligatedAmountCatAb\n",
    "- totalObligatedAmountCatC2g\n",
    "- totalObligatedAmountHmgp"
   ]
  },
  {
   "cell_type": "code",
   "execution_count": 19,
   "id": "624eaedf-d821-4cfc-94eb-4b21ac26d84e",
   "metadata": {
    "tags": []
   },
   "outputs": [],
   "source": [
    "#Standard Scale the cost ($) fields\n",
    "scaler = StandardScaler()\n",
    "\n",
    "costName = [\n",
    "    'totalAmountIhpApproved', 'totalAmountHaApproved', \n",
    "    'totalAmountOnaApproved', 'totalObligatedAmountPa','totalObligatedAmountCatAb',\n",
    "    'totalObligatedAmountCatC2g', 'totalObligatedAmountHmgp' #exclude label \"totalDisasterCost\"\n",
    "]\n",
    "\n",
    "for cost in costName:\n",
    "    scaledName = cost + '_StdScaled'\n",
    "    femaDataCleanV3[scaledName] = scaler.fit_transform(femaDataCleanV3[cost].values.reshape(-1, 1))"
   ]
  },
  {
   "cell_type": "markdown",
   "id": "d06f2638-a00a-4927-9916-3007626f38a5",
   "metadata": {},
   "source": [
    "## Step 3 - Split data into training and testing subsets"
   ]
  },
  {
   "cell_type": "code",
   "execution_count": 21,
   "id": "61c695a9-006c-4a51-8e8a-422d478c131f",
   "metadata": {
    "tags": []
   },
   "outputs": [],
   "source": [
    "# assign X & y\n",
    "X = femaDataCleanV3.select_dtypes(exclude='object')\n",
    "y = femaDataCleanV3['totalDisasterCost']\n",
    "\n",
    "# perform train test split\n",
    "X_train, X_test, y_train, y_test = train_test_split(X, y, random_state=42)"
   ]
  }
 ],
 "metadata": {
  "kernelspec": {
   "display_name": "Python 3 (ipykernel)",
   "language": "python",
   "name": "python3"
  },
  "language_info": {
   "codemirror_mode": {
    "name": "ipython",
    "version": 3
   },
   "file_extension": ".py",
   "mimetype": "text/x-python",
   "name": "python",
   "nbconvert_exporter": "python",
   "pygments_lexer": "ipython3",
   "version": "3.11.7"
  }
 },
 "nbformat": 4,
 "nbformat_minor": 5
}
