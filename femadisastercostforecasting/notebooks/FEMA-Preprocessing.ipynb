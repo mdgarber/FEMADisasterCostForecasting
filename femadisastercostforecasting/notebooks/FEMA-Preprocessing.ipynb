{
 "cells": [
  {
   "cell_type": "markdown",
   "id": "19aa06a1-60e3-494d-a7fe-f227da3a2bdc",
   "metadata": {},
   "source": [
    "# FEMA Disaster Cost Forecasting\n",
    "#### Capstone 2 - Pre-processing and Training Data Development\n",
    "Michael Garber\n",
    "\n",
    "\n",
    "* NOTE: Please run FEMA data wrangling workbook (below) before this one to create data needed.\n",
    "    * On Github \n",
    "        * > [FEMA-DataWrangling.ipynb on Github](https://github.com/mdgarber/FEMADisasterCostForecasting/blob/ef70129c4bf06a38b13c61e1254fdb6a3105486b/femadisastercostforecasting/notebooks/FEMA-DataWrangling.ipynb)\n",
    "    * OR local path\n",
    "        * > /FEMADisasterCostForecasting/femadisastercostforecasting/notebooks/FEMA-DataWrangling.ipynb\n",
    "\n"
   ]
  },
  {
   "cell_type": "markdown",
   "id": "bb0182cf-2716-426d-9887-d96c2aae505d",
   "metadata": {
    "tags": []
   },
   "source": [
    "#### Pre-processing and Training Data Development High-Level Steps\n",
    "1. Creating dummy features\n",
    "2. Scale standardization\n",
    "3. Split data into training and testing subsets\n",
    "\n",
    "Goal: Create a cleaned development dataset you can use to complete the\n",
    "modeling step of your project."
   ]
  },
  {
   "cell_type": "markdown",
   "id": "0196bf5f-f795-406e-bed5-9c94e62ed0bd",
   "metadata": {
    "tags": []
   },
   "source": [
    "## Step 1 - Creating Dummy Features"
   ]
  },
  {
   "cell_type": "code",
   "execution_count": 5,
   "id": "6f336976-20d8-4f2f-aaeb-ec19a0971376",
   "metadata": {
    "tags": []
   },
   "outputs": [],
   "source": [
    "#\"../data/interim/femaDataCleanV2.csv\""
   ]
  },
  {
   "cell_type": "markdown",
   "id": "da84f1fd-ba58-4409-9435-254a446b7963",
   "metadata": {},
   "source": [
    "#### Step 1 Stuff here"
   ]
  },
  {
   "cell_type": "markdown",
   "id": "360bcf69-25cc-4aa5-9a18-442f86bc24b2",
   "metadata": {},
   "source": [
    "## Step 2 - Scale Standardization"
   ]
  },
  {
   "cell_type": "markdown",
   "id": "dcf1fc68-c1a7-4f78-b9d9-6c78849102f5",
   "metadata": {},
   "source": [
    "#### Step 2 Stuff here"
   ]
  },
  {
   "cell_type": "markdown",
   "id": "d06f2638-a00a-4927-9916-3007626f38a5",
   "metadata": {},
   "source": [
    "## Step 3 - Split data into training and testing subsets"
   ]
  },
  {
   "cell_type": "markdown",
   "id": "9b489a6d-c5b7-4d53-bab6-0140a7b15d05",
   "metadata": {},
   "source": [
    "#### Step 3 Stuff here"
   ]
  }
 ],
 "metadata": {
  "kernelspec": {
   "display_name": "Python 3 (ipykernel)",
   "language": "python",
   "name": "python3"
  },
  "language_info": {
   "codemirror_mode": {
    "name": "ipython",
    "version": 3
   },
   "file_extension": ".py",
   "mimetype": "text/x-python",
   "name": "python",
   "nbconvert_exporter": "python",
   "pygments_lexer": "ipython3",
   "version": "3.11.7"
  }
 },
 "nbformat": 4,
 "nbformat_minor": 5
}
