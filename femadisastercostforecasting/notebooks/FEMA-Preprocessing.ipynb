{
 "cells": [
  {
   "cell_type": "markdown",
   "id": "19aa06a1-60e3-494d-a7fe-f227da3a2bdc",
   "metadata": {},
   "source": [
    "# FEMA Disaster Cost Forecasting\n",
    "#### Capstone 2 - Pre-processing and Training Data Development\n",
    "Michael Garber\n",
    "\n",
    "\n",
    "* NOTE: Please run FEMA data wrangling workbook (below) before this one to create data needed.\n",
    "    * On Github \n",
    "        * > [FEMA-DataWrangling.ipynb on Github](https://github.com/mdgarber/FEMADisasterCostForecasting/blob/ef70129c4bf06a38b13c61e1254fdb6a3105486b/femadisastercostforecasting/notebooks/FEMA-DataWrangling.ipynb)\n",
    "    * OR local path\n",
    "        * > /FEMADisasterCostForecasting/femadisastercostforecasting/notebooks/FEMA-DataWrangling.ipynb\n",
    "\n"
   ]
  },
  {
   "cell_type": "markdown",
   "id": "bb0182cf-2716-426d-9887-d96c2aae505d",
   "metadata": {
    "tags": []
   },
   "source": [
    "#### Pre-processing and Training Data Development High-Level Steps\n",
    "1. Creating dummy features\n",
    "2. Scale standardization\n",
    "3. Split data into training and testing subsets\n",
    "\n",
    "Goal: Create a cleaned development dataset you can use to complete the\n",
    "modeling step of your project."
   ]
  },
  {
   "cell_type": "markdown",
   "id": "0cbcf071-c83f-44a7-b213-068ee6f0e609",
   "metadata": {},
   "source": [
    "## Step 0 - Import libraries & load & clean data"
   ]
  },
  {
   "cell_type": "code",
   "execution_count": 160,
   "id": "542ecb21-888f-4e04-a6cd-563786abff4f",
   "metadata": {
    "tags": []
   },
   "outputs": [],
   "source": [
    "# import libraries\n",
    "import pandas as pd"
   ]
  },
  {
   "cell_type": "code",
   "execution_count": 162,
   "id": "af6fd217-153b-4731-893b-3599ed08cc12",
   "metadata": {
    "tags": []
   },
   "outputs": [],
   "source": [
    "# load data\n",
    "femaDataCleanV2 = pd.read_csv('../data/interim/femaDataCleanV2.csv')"
   ]
  },
  {
   "cell_type": "code",
   "execution_count": 164,
   "id": "f4e3b80a-cd0e-446a-b7cc-321123bb5670",
   "metadata": {
    "tags": []
   },
   "outputs": [],
   "source": [
    "# Clean data\n",
    "\n",
    "# Create new V3 df & Set index to disasterNumber\n",
    "femaDataCleanV3 = femaDataCleanV2.set_index('disasterNumber')\n",
    "\n",
    "# drop useless columns: 'unnamed: 0', etc\n",
    "femaDataCleanV3.drop(['Unnamed: 0'], axis=1, inplace=True)\n",
    "\n",
    "# handle NaNs and NULLs\n",
    "#columns to handle: 'ihProgramDeclared', 'iaProgramDeclared', 'paProgramDeclared', 'hmProgramDeclared'\n",
    "\n",
    "#TODO: set NaNs to 0"
   ]
  },
  {
   "cell_type": "markdown",
   "id": "0196bf5f-f795-406e-bed5-9c94e62ed0bd",
   "metadata": {
    "tags": []
   },
   "source": [
    "## Step 1 - Creating Dummy Features"
   ]
  },
  {
   "cell_type": "code",
   "execution_count": 167,
   "id": "6f336976-20d8-4f2f-aaeb-ec19a0971376",
   "metadata": {
    "tags": []
   },
   "outputs": [
    {
     "name": "stdout",
     "output_type": "stream",
     "text": [
      "Index(['declarationDate', 'disasterName', 'incidentBeginDate',\n",
      "       'incidentEndDate', 'declarationType', 'stateCode', 'stateName',\n",
      "       'incidentType', 'entryDate', 'updateDate', 'closeoutDate', 'region',\n",
      "       'ihProgramDeclared', 'iaProgramDeclared', 'paProgramDeclared',\n",
      "       'hmProgramDeclared', 'designatedIncidentTypes',\n",
      "       'declarationRequestDate', 'id_x', 'hash_x', 'lastRefresh_x',\n",
      "       'totalNumberIaApproved', 'totalAmountIhpApproved',\n",
      "       'totalAmountHaApproved', 'totalAmountOnaApproved',\n",
      "       'totalObligatedAmountPa', 'totalObligatedAmountCatAb',\n",
      "       'totalObligatedAmountCatC2g', 'paLoadDate', 'iaLoadDate',\n",
      "       'totalObligatedAmountHmgp', 'hash_y', 'lastRefresh_y', 'id_y',\n",
      "       'totalDisasterCost'],\n",
      "      dtype='object')\n"
     ]
    }
   ],
   "source": [
    "# view all columns\n",
    "print(femaDataCleanV3.columns)"
   ]
  },
  {
   "cell_type": "code",
   "execution_count": 169,
   "id": "05bfc353-ec92-482c-9ab6-365dd3c88d45",
   "metadata": {
    "tags": []
   },
   "outputs": [
    {
     "data": {
      "text/plain": [
       "'\\nincidentType\\nstateCode\\nregion\\ndesignatedIncidentTypes\\n'"
      ]
     },
     "execution_count": 169,
     "metadata": {},
     "output_type": "execute_result"
    }
   ],
   "source": [
    "# Choose categorical variables\n",
    "'''\n",
    "incidentType\n",
    "stateCode\n",
    "region\n",
    "designatedIncidentTypes\n",
    "'''"
   ]
  },
  {
   "cell_type": "code",
   "execution_count": 173,
   "id": "5a65d104-fba0-49b2-9463-190e92404f36",
   "metadata": {
    "jupyter": {
     "source_hidden": true
    },
    "tags": []
   },
   "outputs": [
    {
     "data": {
      "text/plain": [
       "'\\n0: Not applicable\\n1: Explosion\\n2: Straight-Line Winds\\n3: Tidal Wave\\n4: Tropical Storm\\n5: Winter Storm\\n8: Tropical Depression\\nA: Tsunami\\nB: Biological\\nC: Coastal Storm\\nD: Drought\\nE: Earthquake\\nF: Flood\\nG: Freezing\\nH: Hurricane\\nI: Terrorist\\nJ: Typhoon\\nK: Dam/Levee Break\\nL: Chemical\\nM: Mud/Landslide\\nN: Nuclear\\nO: Severe Ice Storm\\nP: Fishing Losses\\nQ: Crop Losses\\nR: Fire\\nS: Snowstorm\\nT: Tornado\\nU: Civil Unrest\\nV: Volcanic Eruption\\nW: Severe Storm\\nX: Toxic Substances\\nY: Human Cause\\nZ: Other\\n'"
      ]
     },
     "execution_count": 173,
     "metadata": {},
     "output_type": "execute_result"
    }
   ],
   "source": [
    "# designatedIncidentTypes Key\n",
    "'''\n",
    "0: Not applicable\n",
    "1: Explosion\n",
    "2: Straight-Line Winds\n",
    "3: Tidal Wave\n",
    "4: Tropical Storm\n",
    "5: Winter Storm\n",
    "8: Tropical Depression\n",
    "A: Tsunami\n",
    "B: Biological\n",
    "C: Coastal Storm\n",
    "D: Drought\n",
    "E: Earthquake\n",
    "F: Flood\n",
    "G: Freezing\n",
    "H: Hurricane\n",
    "I: Terrorist\n",
    "J: Typhoon\n",
    "K: Dam/Levee Break\n",
    "L: Chemical\n",
    "M: Mud/Landslide\n",
    "N: Nuclear\n",
    "O: Severe Ice Storm\n",
    "P: Fishing Losses\n",
    "Q: Crop Losses\n",
    "R: Fire\n",
    "S: Snowstorm\n",
    "T: Tornado\n",
    "U: Civil Unrest\n",
    "V: Volcanic Eruption\n",
    "W: Severe Storm\n",
    "X: Toxic Substances\n",
    "Y: Human Cause\n",
    "Z: Other\n",
    "'''"
   ]
  },
  {
   "cell_type": "markdown",
   "id": "360bcf69-25cc-4aa5-9a18-442f86bc24b2",
   "metadata": {},
   "source": [
    "## Step 2 - Scale Standardization"
   ]
  },
  {
   "cell_type": "markdown",
   "id": "dcf1fc68-c1a7-4f78-b9d9-6c78849102f5",
   "metadata": {},
   "source": [
    "#### Step 2 Stuff here"
   ]
  },
  {
   "cell_type": "markdown",
   "id": "d06f2638-a00a-4927-9916-3007626f38a5",
   "metadata": {},
   "source": [
    "## Step 3 - Split data into training and testing subsets"
   ]
  },
  {
   "cell_type": "markdown",
   "id": "9b489a6d-c5b7-4d53-bab6-0140a7b15d05",
   "metadata": {},
   "source": [
    "#### Step 3 Stuff here"
   ]
  }
 ],
 "metadata": {
  "kernelspec": {
   "display_name": "Python 3 (ipykernel)",
   "language": "python",
   "name": "python3"
  },
  "language_info": {
   "codemirror_mode": {
    "name": "ipython",
    "version": 3
   },
   "file_extension": ".py",
   "mimetype": "text/x-python",
   "name": "python",
   "nbconvert_exporter": "python",
   "pygments_lexer": "ipython3",
   "version": "3.11.7"
  }
 },
 "nbformat": 4,
 "nbformat_minor": 5
}
