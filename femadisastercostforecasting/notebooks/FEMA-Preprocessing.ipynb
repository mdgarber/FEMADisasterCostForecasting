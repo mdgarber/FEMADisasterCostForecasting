{
 "cells": [
  {
   "cell_type": "markdown",
   "id": "19aa06a1-60e3-494d-a7fe-f227da3a2bdc",
   "metadata": {},
   "source": [
    "# FEMA Disaster Cost Forecasting\n",
    "#### Capstone 2 - Pre-processing and Training Data Development\n",
    "Michael Garber\n",
    "\n",
    "\n",
    "* NOTE: Please run FEMA data wrangling workbook (below) before this one to create data needed.\n",
    "    * On Github \n",
    "        * > [FEMA-DataWrangling.ipynb on Github](https://github.com/mdgarber/FEMADisasterCostForecasting/blob/ef70129c4bf06a38b13c61e1254fdb6a3105486b/femadisastercostforecasting/notebooks/FEMA-DataWrangling.ipynb)\n",
    "    * OR local path\n",
    "        * > /FEMADisasterCostForecasting/femadisastercostforecasting/notebooks/FEMA-DataWrangling.ipynb\n",
    "\n"
   ]
  },
  {
   "cell_type": "markdown",
   "id": "bb0182cf-2716-426d-9887-d96c2aae505d",
   "metadata": {
    "tags": []
   },
   "source": [
    "#### Pre-processing and Training Data Development High-Level Steps\n",
    "1. Creating dummy features\n",
    "2. Scale standardization\n",
    "3. Split data into training and testing subsets\n",
    "\n",
    "Goal: Create a cleaned development dataset you can use to complete the\n",
    "modeling step of your project."
   ]
  },
  {
   "cell_type": "markdown",
   "id": "0cbcf071-c83f-44a7-b213-068ee6f0e609",
   "metadata": {},
   "source": [
    "## Step 0 - Import libraries & load & clean data"
   ]
  },
  {
   "cell_type": "code",
   "execution_count": 5,
   "id": "542ecb21-888f-4e04-a6cd-563786abff4f",
   "metadata": {
    "tags": []
   },
   "outputs": [],
   "source": [
    "# import libraries\n",
    "import pandas as pd\n",
    "from IPython.display import display"
   ]
  },
  {
   "cell_type": "code",
   "execution_count": 7,
   "id": "af6fd217-153b-4731-893b-3599ed08cc12",
   "metadata": {
    "tags": []
   },
   "outputs": [],
   "source": [
    "# load data\n",
    "femaDataCleanV2 = pd.read_csv('../data/interim/femaDataCleanV2.csv')"
   ]
  },
  {
   "cell_type": "code",
   "execution_count": 9,
   "id": "f4e3b80a-cd0e-446a-b7cc-321123bb5670",
   "metadata": {
    "tags": []
   },
   "outputs": [],
   "source": [
    "# Clean data\n",
    "\n",
    "# Create new V3 df & Set index to disasterNumber\n",
    "femaDataCleanV3 = femaDataCleanV2.set_index('disasterNumber')\n",
    "\n",
    "# drop useless columns: 'unnamed: 0', etc\n",
    "femaDataCleanV3.drop(['Unnamed: 0'], axis=1, inplace=True)\n",
    "\n",
    "# handle NaNs and NULLs\n"
   ]
  },
  {
   "cell_type": "markdown",
   "id": "0196bf5f-f795-406e-bed5-9c94e62ed0bd",
   "metadata": {
    "tags": []
   },
   "source": [
    "## Step 1 - Creating Dummy Features"
   ]
  },
  {
   "cell_type": "code",
   "execution_count": 12,
   "id": "6f336976-20d8-4f2f-aaeb-ec19a0971376",
   "metadata": {
    "tags": []
   },
   "outputs": [
    {
     "name": "stdout",
     "output_type": "stream",
     "text": [
      "Index(['declarationDate', 'disasterName', 'incidentBeginDate',\n",
      "       'incidentEndDate', 'declarationType', 'stateCode', 'stateName',\n",
      "       'incidentType', 'entryDate', 'updateDate', 'closeoutDate', 'region',\n",
      "       'ihProgramDeclared', 'iaProgramDeclared', 'paProgramDeclared',\n",
      "       'hmProgramDeclared', 'designatedIncidentTypes',\n",
      "       'declarationRequestDate', 'id_x', 'hash_x', 'lastRefresh_x',\n",
      "       'totalNumberIaApproved', 'totalAmountIhpApproved',\n",
      "       'totalAmountHaApproved', 'totalAmountOnaApproved',\n",
      "       'totalObligatedAmountPa', 'totalObligatedAmountCatAb',\n",
      "       'totalObligatedAmountCatC2g', 'paLoadDate', 'iaLoadDate',\n",
      "       'totalObligatedAmountHmgp', 'hash_y', 'lastRefresh_y', 'id_y',\n",
      "       'totalDisasterCost'],\n",
      "      dtype='object')\n"
     ]
    }
   ],
   "source": [
    "# view all columns\n",
    "print(femaDataCleanV3.columns)"
   ]
  },
  {
   "cell_type": "markdown",
   "id": "cd6103a0-fc24-46af-baad-ed94940544a5",
   "metadata": {
    "tags": []
   },
   "source": [
    "__Choose categorical variables__\n",
    "- incidentType\n",
    "- stateCode\n",
    "- region\n",
    "- ihProgramDeclared (already a boolean)\n",
    "- iaProgramDeclared (already a boolean)\n",
    "- paProgramDeclared (already a boolean)\n",
    "- hmProgramDeclared (already a boolean)\n",
    "- designatedIncidentTypes * multi-value field *"
   ]
  },
  {
   "cell_type": "code",
   "execution_count": 15,
   "id": "7713d6cd-c4ee-4854-8069-f03d4545eee7",
   "metadata": {
    "tags": []
   },
   "outputs": [
    {
     "data": {
      "text/plain": [
       "incidentType           0\n",
       "stateCode              0\n",
       "region                 0\n",
       "ihProgramDeclared    251\n",
       "iaProgramDeclared    251\n",
       "paProgramDeclared    251\n",
       "hmProgramDeclared    251\n",
       "dtype: int64"
      ]
     },
     "execution_count": 15,
     "metadata": {},
     "output_type": "execute_result"
    }
   ],
   "source": [
    "#check for NULLs\n",
    "femaDataCleanV3[['incidentType', 'stateCode', 'region','ihProgramDeclared', 'iaProgramDeclared', 'paProgramDeclared', 'hmProgramDeclared']].isnull().sum()"
   ]
  },
  {
   "cell_type": "markdown",
   "id": "fd80de45-25e3-431f-a0ca-76ee8a8f32b9",
   "metadata": {},
   "source": [
    "__Fields with NULLs found__\n",
    "- ihProgramDeclared\n",
    "- iaProgramDeclared\n",
    "- paProgramDeclared\n",
    "- hmProgramDeclared"
   ]
  },
  {
   "cell_type": "code",
   "execution_count": 18,
   "id": "77da8323-19a2-4db2-87ca-e6c30468e809",
   "metadata": {
    "tags": []
   },
   "outputs": [],
   "source": [
    "#Handle NULLS for categorical features\n",
    "nullCols = {'ihProgramDeclared': 0, 'iaProgramDeclared': 0, 'paProgramDeclared': 0, 'hmProgramDeclared': 0}\n",
    "femaDataCleanV3 = femaDataCleanV3.fillna(value=nullCols)"
   ]
  },
  {
   "cell_type": "code",
   "execution_count": 20,
   "id": "9a1d0ce4-78ef-4fc4-b420-9b772ec69b47",
   "metadata": {
    "tags": []
   },
   "outputs": [
    {
     "data": {
      "text/plain": [
       "ihProgramDeclared    0\n",
       "iaProgramDeclared    0\n",
       "paProgramDeclared    0\n",
       "hmProgramDeclared    0\n",
       "dtype: int64"
      ]
     },
     "execution_count": 20,
     "metadata": {},
     "output_type": "execute_result"
    }
   ],
   "source": [
    "#check for NULLs after fillna\n",
    "femaDataCleanV3[['ihProgramDeclared', 'iaProgramDeclared', 'paProgramDeclared', 'hmProgramDeclared']].isnull().sum()"
   ]
  },
  {
   "cell_type": "code",
   "execution_count": 28,
   "id": "fb82a697-ad77-40ac-aac6-651e789e62fe",
   "metadata": {
    "tags": []
   },
   "outputs": [
    {
     "name": "stdout",
     "output_type": "stream",
     "text": [
      "declarationDate\n",
      "disasterName\n",
      "incidentBeginDate\n",
      "incidentEndDate\n",
      "declarationType\n",
      "stateName\n",
      "entryDate\n",
      "updateDate\n",
      "closeoutDate\n",
      "ihProgramDeclared\n",
      "iaProgramDeclared\n",
      "paProgramDeclared\n",
      "hmProgramDeclared\n",
      "designatedIncidentTypes\n",
      "declarationRequestDate\n",
      "id_x\n",
      "hash_x\n",
      "lastRefresh_x\n",
      "totalNumberIaApproved\n",
      "totalAmountIhpApproved\n",
      "totalAmountHaApproved\n",
      "totalAmountOnaApproved\n",
      "totalObligatedAmountPa\n",
      "totalObligatedAmountCatAb\n",
      "totalObligatedAmountCatC2g\n",
      "paLoadDate\n",
      "iaLoadDate\n",
      "totalObligatedAmountHmgp\n",
      "hash_y\n",
      "lastRefresh_y\n",
      "id_y\n",
      "totalDisasterCost\n",
      "incidentType_Biological\n",
      "incidentType_Chemical\n",
      "incidentType_Coastal Storm\n",
      "incidentType_Dam/Levee Break\n",
      "incidentType_Drought\n",
      "incidentType_Earthquake\n",
      "incidentType_Fire\n",
      "incidentType_Fishing Losses\n",
      "incidentType_Flood\n",
      "incidentType_Freezing\n",
      "incidentType_Human Cause\n",
      "incidentType_Hurricane\n",
      "incidentType_Mud/Landslide\n",
      "incidentType_Other\n",
      "incidentType_Severe Ice Storm\n",
      "incidentType_Severe Storm\n",
      "incidentType_Snowstorm\n",
      "incidentType_Straight-Line Winds\n",
      "incidentType_Terrorist\n",
      "incidentType_Tornado\n",
      "incidentType_Toxic Substances\n",
      "incidentType_Tropical Storm\n",
      "incidentType_Tsunami\n",
      "incidentType_Typhoon\n",
      "incidentType_Volcanic Eruption\n",
      "incidentType_Winter Storm\n",
      "stateCode_AK\n",
      "stateCode_AL\n",
      "stateCode_AR\n",
      "stateCode_AS\n",
      "stateCode_AZ\n",
      "stateCode_CA\n",
      "stateCode_CO\n",
      "stateCode_CT\n",
      "stateCode_DC\n",
      "stateCode_DE\n",
      "stateCode_FL\n",
      "stateCode_FM\n",
      "stateCode_GA\n",
      "stateCode_GU\n",
      "stateCode_HI\n",
      "stateCode_IA\n",
      "stateCode_ID\n",
      "stateCode_IL\n",
      "stateCode_IN\n",
      "stateCode_KS\n",
      "stateCode_KY\n",
      "stateCode_LA\n",
      "stateCode_MA\n",
      "stateCode_MD\n",
      "stateCode_ME\n",
      "stateCode_MH\n",
      "stateCode_MI\n",
      "stateCode_MN\n",
      "stateCode_MO\n",
      "stateCode_MP\n",
      "stateCode_MS\n",
      "stateCode_MT\n",
      "stateCode_NC\n",
      "stateCode_ND\n",
      "stateCode_NE\n",
      "stateCode_NH\n",
      "stateCode_NJ\n",
      "stateCode_NM\n",
      "stateCode_NV\n",
      "stateCode_NY\n",
      "stateCode_OH\n",
      "stateCode_OK\n",
      "stateCode_OR\n",
      "stateCode_PA\n",
      "stateCode_PR\n",
      "stateCode_PW\n",
      "stateCode_RI\n",
      "stateCode_SC\n",
      "stateCode_SD\n",
      "stateCode_TN\n",
      "stateCode_TX\n",
      "stateCode_UT\n",
      "stateCode_VA\n",
      "stateCode_VI\n",
      "stateCode_VT\n",
      "stateCode_WA\n",
      "stateCode_WI\n",
      "stateCode_WV\n",
      "stateCode_WY\n",
      "region_1\n",
      "region_2\n",
      "region_3\n",
      "region_4\n",
      "region_5\n",
      "region_6\n",
      "region_7\n",
      "region_8\n",
      "region_9\n",
      "region_10\n"
     ]
    }
   ],
   "source": [
    "# Create Dummies for incidentType, stateCode, region\n",
    "femaDataCleanV3 = pd.get_dummies(femaDataCleanV3, columns=['incidentType', 'stateCode', 'region'])\n",
    "\n",
    "#for col in dummyCols.columns:\n",
    "#    print(col)    "
   ]
  },
  {
   "cell_type": "code",
   "execution_count": 22,
   "id": "a08d196c-6adb-4346-8a12-26dcb8d2efcc",
   "metadata": {
    "tags": []
   },
   "outputs": [],
   "source": [
    "# Update Dummy fields for designatedIncidentTypes"
   ]
  },
  {
   "cell_type": "code",
   "execution_count": null,
   "id": "5a65d104-fba0-49b2-9463-190e92404f36",
   "metadata": {
    "jupyter": {
     "source_hidden": true
    },
    "tags": []
   },
   "outputs": [],
   "source": [
    "# designatedIncidentTypes Key\n",
    "'''\n",
    "0: Not applicable\n",
    "1: Explosion\n",
    "2: Straight-Line Winds\n",
    "3: Tidal Wave\n",
    "4: Tropical Storm\n",
    "5: Winter Storm\n",
    "8: Tropical Depression\n",
    "A: Tsunami\n",
    "B: Biological\n",
    "C: Coastal Storm\n",
    "D: Drought\n",
    "E: Earthquake\n",
    "F: Flood\n",
    "G: Freezing\n",
    "H: Hurricane\n",
    "I: Terrorist\n",
    "J: Typhoon\n",
    "K: Dam/Levee Break\n",
    "L: Chemical\n",
    "M: Mud/Landslide\n",
    "N: Nuclear\n",
    "O: Severe Ice Storm\n",
    "P: Fishing Losses\n",
    "Q: Crop Losses\n",
    "R: Fire\n",
    "S: Snowstorm\n",
    "T: Tornado\n",
    "U: Civil Unrest\n",
    "V: Volcanic Eruption\n",
    "W: Severe Storm\n",
    "X: Toxic Substances\n",
    "Y: Human Cause\n",
    "Z: Other\n",
    "'''"
   ]
  },
  {
   "cell_type": "markdown",
   "id": "360bcf69-25cc-4aa5-9a18-442f86bc24b2",
   "metadata": {},
   "source": [
    "## Step 2 - Scale Standardization"
   ]
  },
  {
   "cell_type": "markdown",
   "id": "dcf1fc68-c1a7-4f78-b9d9-6c78849102f5",
   "metadata": {},
   "source": [
    "#### Step 2 Stuff here"
   ]
  },
  {
   "cell_type": "markdown",
   "id": "d06f2638-a00a-4927-9916-3007626f38a5",
   "metadata": {},
   "source": [
    "## Step 3 - Split data into training and testing subsets"
   ]
  },
  {
   "cell_type": "markdown",
   "id": "9b489a6d-c5b7-4d53-bab6-0140a7b15d05",
   "metadata": {},
   "source": [
    "#### Step 3 Stuff here"
   ]
  },
  {
   "cell_type": "code",
   "execution_count": null,
   "id": "7fb77091-5082-4c5c-9c35-3f015e9dd0e5",
   "metadata": {},
   "outputs": [],
   "source": [
    "#TODO\n",
    "\n",
    "'''\n",
    "-create dummies\n",
    "-How to create dummy variables then update multiple fields based on a single column? create a function of if statements\n",
    "\n",
    "'''"
   ]
  }
 ],
 "metadata": {
  "kernelspec": {
   "display_name": "Python 3 (ipykernel)",
   "language": "python",
   "name": "python3"
  },
  "language_info": {
   "codemirror_mode": {
    "name": "ipython",
    "version": 3
   },
   "file_extension": ".py",
   "mimetype": "text/x-python",
   "name": "python",
   "nbconvert_exporter": "python",
   "pygments_lexer": "ipython3",
   "version": "3.11.7"
  }
 },
 "nbformat": 4,
 "nbformat_minor": 5
}
