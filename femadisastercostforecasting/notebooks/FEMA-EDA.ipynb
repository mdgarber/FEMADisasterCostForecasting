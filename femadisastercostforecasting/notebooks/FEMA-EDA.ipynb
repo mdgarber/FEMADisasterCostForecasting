{
 "cells": [
  {
   "cell_type": "markdown",
   "id": "398ec46b-5591-4b9e-b604-56678c78c2ba",
   "metadata": {},
   "source": [
    "# FEMA Disaster Cost Forecasting\n",
    "#### Capstone 2 - Exploratory Data Analysis\n",
    "Michael Garber\n"
   ]
  },
  {
   "cell_type": "markdown",
   "id": "2620ad31-3088-4df9-aea1-47d4cde5a431",
   "metadata": {
    "jp-MarkdownHeadingCollapsed": true
   },
   "source": [
    "#### EDA High-Level Steps\n",
    "1. Build data profiles and tables\n",
    "    2. Inferential statistics\n",
    "3. Explore data relationships\n",
    "    4. Data visualization\n",
    "5. Feature Selection and Engineering\n",
    "\n",
    "Goal: Explore the data relationships of all your features and understand how the features compare to the response variable."
   ]
  }
 ],
 "metadata": {
  "kernelspec": {
   "display_name": "Python 3 (ipykernel)",
   "language": "python",
   "name": "python3"
  },
  "language_info": {
   "codemirror_mode": {
    "name": "ipython",
    "version": 3
   },
   "file_extension": ".py",
   "mimetype": "text/x-python",
   "name": "python",
   "nbconvert_exporter": "python",
   "pygments_lexer": "ipython3",
   "version": "3.11.5"
  }
 },
 "nbformat": 4,
 "nbformat_minor": 5
}
