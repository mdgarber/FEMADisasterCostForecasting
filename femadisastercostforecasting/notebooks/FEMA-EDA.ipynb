{
 "cells": [
  {
   "cell_type": "markdown",
   "id": "398ec46b-5591-4b9e-b604-56678c78c2ba",
   "metadata": {},
   "source": [
    "# FEMA Disaster Cost Forecasting\n",
    "#### Capstone 2 - Exploratory Data Analysis\n",
    "Michael Garber\n"
   ]
  },
  {
   "cell_type": "markdown",
   "id": "2620ad31-3088-4df9-aea1-47d4cde5a431",
   "metadata": {},
   "source": [
    "#### EDA High-Level Steps\n",
    "1. Build data profiles and tables\n",
    "    2. Inferential statistics\n",
    "3. Explore data relationships\n",
    "    4. Data visualization\n",
    "5. Feature Selection and Engineering\n",
    "\n",
    "Goal: Explore the data relationships of all your features and understand how the features compare to the response variable."
   ]
  },
  {
   "cell_type": "markdown",
   "id": "c57d9dcb-b680-45d0-ab26-69fbf0f86302",
   "metadata": {},
   "source": [
    "#### FEMA Disaster Cost Forecasting Goals\n",
    "- predict/forecast/risk assess FEMA 2025 costs\n",
    "- *dependent variable will be the sum of costs that each disaster records. To be defined in step three feature selection"
   ]
  },
  {
   "cell_type": "markdown",
   "id": "c6183ba3-c7b3-4f74-92a8-b42a1e64016f",
   "metadata": {},
   "source": [
    "#### Build data profiles and tables\n",
    "###### Inferential statistics\n",
    "- summary statistics\n",
    "- categorical variable counts & review\n",
    "- histogram columns\n",
    "- box plot analysis for outliers and anomolies"
   ]
  },
  {
   "cell_type": "code",
   "execution_count": 16,
   "id": "e9d8380a-dc1b-4852-80b2-ba4b814200c8",
   "metadata": {},
   "outputs": [],
   "source": [
    "#import libraries\n",
    "import pandas as pd\n",
    "#matplotlib\n",
    "#seaborn"
   ]
  },
  {
   "cell_type": "code",
   "execution_count": 20,
   "id": "35c1fbd6-a2cf-4cd8-a23d-2a6bee149d27",
   "metadata": {},
   "outputs": [],
   "source": [
    "#Load cleaned data\n",
    "femaDataClean = pd.read_csv('../data/interim/femaMasterData_clean.csv')"
   ]
  },
  {
   "cell_type": "code",
   "execution_count": null,
   "id": "1dfdff8c-bc33-42bf-94da-e262736528c8",
   "metadata": {},
   "outputs": [],
   "source": [
    "femaDataClean"
   ]
  }
 ],
 "metadata": {
  "kernelspec": {
   "display_name": "Python 3 (ipykernel)",
   "language": "python",
   "name": "python3"
  },
  "language_info": {
   "codemirror_mode": {
    "name": "ipython",
    "version": 3
   },
   "file_extension": ".py",
   "mimetype": "text/x-python",
   "name": "python",
   "nbconvert_exporter": "python",
   "pygments_lexer": "ipython3",
   "version": "3.11.5"
  }
 },
 "nbformat": 4,
 "nbformat_minor": 5
}
