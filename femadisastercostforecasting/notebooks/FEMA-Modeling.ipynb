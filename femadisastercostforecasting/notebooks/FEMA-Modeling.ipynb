{
 "cells": [
  {
   "cell_type": "markdown",
   "id": "6d15c93e-2755-4d6b-94a7-2ee360ea3da9",
   "metadata": {},
   "source": [
    "# FEMA Disaster Cost Forecasting\n",
    "#### Capstone 2 - Modeling\n",
    "Michael Garber\n",
    "\n",
    "\n",
    "* NOTE: Please run notebooks (below) before this one to create data needed.\n",
    "    * On Github \n",
    "        1. > [FEMA-DataWrangling.ipynb on Github](https://github.com/mdgarber/FEMADisasterCostForecasting/blob/ef70129c4bf06a38b13c61e1254fdb6a3105486b/femadisastercostforecasting/notebooks/FEMA-DataWrangling.ipynb)\n",
    "        2. > [FEMA-EDA.ipynb on Github](https://github.com/mdgarber/FEMADisasterCostForecasting/blob/ef70129c4bf06a38b13c61e1254fdb6a3105486b/femadisastercostforecasting/notebooks/FEMA-EDA.ipynb)\n",
    "        3. > [FEMA-Preprocessinging.ipynb on Github](https://github.com/mdgarber/FEMADisasterCostForecasting/blob/2f76bf8a14b23fe31cdf044209ef6cdbcad78fb6/femadisastercostforecasting/notebooks/FEMA-Preprocessing.ipynb)\n",
    "    * OR local path\n",
    "        1. > /FEMADisasterCostForecasting/femadisastercostforecasting/notebooks/FEMA-DataWrangling.ipynb\n",
    "        2. > /FEMADisasterCostForecasting/femadisastercostforecasting/notebooks/FEMA-EDA.ipynb\n",
    "        3. > /FEMADisasterCostForecasting/femadisastercostforecasting/notebooks/FEMA-Preprocessing.ipynb\n",
    "\n"
   ]
  },
  {
   "cell_type": "markdown",
   "id": "cb9c453f-2af8-4227-af4f-a93e22bb45da",
   "metadata": {},
   "source": [
    "#### Modeling High-Level Steps\n",
    "\n",
    "> **Goal**: Build two to three different models and identify the best one.\n",
    "\n",
    "1. Import Libraries\n",
    "2. Import Data\n",
    "3. Review model types\n",
    "4. Choose 2-3 models\n",
    "5. Feature engineering\n",
    "6. Additional EDA\n",
    "7. Hyperparameter tuning\n",
    "8. Fit models to training data set\n",
    "9. Transform Train and Test sets (but don't fit to Test or else data leakage)\n",
    "10. Evaluate models\n",
    "\n"
   ]
  },
  {
   "cell_type": "markdown",
   "id": "a5755005-0440-48af-b1d6-d6f18e5fd1c9",
   "metadata": {
    "tags": []
   },
   "source": [
    "## Step 1 - Import libraries"
   ]
  },
  {
   "cell_type": "code",
   "execution_count": 5,
   "id": "738dbd48-f614-4eaa-a563-fc74bf151306",
   "metadata": {
    "tags": []
   },
   "outputs": [],
   "source": [
    "# import libraries\n",
    "import pandas as pd\n",
    "import numpy as np\n",
    "from IPython.display import display\n",
    "from sklearn.preprocessing import StandardScaler\n",
    "from sklearn.model_selection import train_test_split\n",
    "from matplotlib import pyplot as plt"
   ]
  },
  {
   "cell_type": "markdown",
   "id": "e6de05c6-4ec6-4468-841d-5d03e86b4b33",
   "metadata": {},
   "source": [
    "## Step 2 - Import Data"
   ]
  },
  {
   "cell_type": "code",
   "execution_count": 19,
   "id": "384f193a-d5f0-4de2-847f-eb62a40e4e30",
   "metadata": {
    "tags": []
   },
   "outputs": [],
   "source": [
    "# load data\n",
    "femaDataCleanV3 = pd.read_csv('../data/interim/femaDataCleanV3.csv', low_memory=False)   \n",
    "\n",
    "## using \"low_memory=False\" to prevent error...\"DtypeWarning: Columns (26) have mixed types. Specify dtype option on import or set low_memory=False.\""
   ]
  },
  {
   "cell_type": "markdown",
   "id": "b6ce7fe0-b2fa-48d5-b995-3ffcb59f7f06",
   "metadata": {
    "tags": []
   },
   "source": [
    "## Step 3 - Review Model Types\n"
   ]
  },
  {
   "cell_type": "code",
   "execution_count": null,
   "id": "e122349e-46ef-4672-9dd1-977975b856f2",
   "metadata": {},
   "outputs": [],
   "source": []
  }
 ],
 "metadata": {
  "kernelspec": {
   "display_name": "Python 3 (ipykernel)",
   "language": "python",
   "name": "python3"
  },
  "language_info": {
   "codemirror_mode": {
    "name": "ipython",
    "version": 3
   },
   "file_extension": ".py",
   "mimetype": "text/x-python",
   "name": "python",
   "nbconvert_exporter": "python",
   "pygments_lexer": "ipython3",
   "version": "3.11.7"
  }
 },
 "nbformat": 4,
 "nbformat_minor": 5
}
