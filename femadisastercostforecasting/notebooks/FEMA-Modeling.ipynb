{
 "cells": [
  {
   "cell_type": "markdown",
   "id": "6d15c93e-2755-4d6b-94a7-2ee360ea3da9",
   "metadata": {},
   "source": [
    "# FEMA Disaster Cost Forecasting\n",
    "#### Capstone 2 - Modeling\n",
    "Michael Garber\n",
    "\n",
    "\n",
    "* NOTE: Please run notebooks (below) before this one to create data needed.\n",
    "    * On Github \n",
    "        * > [FEMA-DataWrangling.ipynb on Github](https://github.com/mdgarber/FEMADisasterCostForecasting/blob/ef70129c4bf06a38b13c61e1254fdb6a3105486b/femadisastercostforecasting/notebooks/FEMA-DataWrangling.ipynb)\n",
    "        * > [FEMA-EDA.ipynb on Github](https://github.com/mdgarber/FEMADisasterCostForecasting/blob/ef70129c4bf06a38b13c61e1254fdb6a3105486b/femadisastercostforecasting/notebooks/FEMA-EDA.ipynb)\n",
    "        * > [FEMA-Modeling.ipynb on Github](URLhere)\n",
    "    * OR local path\n",
    "        * > /FEMADisasterCostForecasting/femadisastercostforecasting/notebooks/FEMA-DataWrangling.ipynb\n",
    "        * > /FEMADisasterCostForecasting/femadisastercostforecasting/notebooks/FEMA-EDA.ipynb\n",
    "        * > /FEMADisasterCostForecasting/femadisastercostforecasting/notebooks/FEMA-Modeling.ipynb\n",
    "\n"
   ]
  },
  {
   "cell_type": "markdown",
   "id": "cb9c453f-2af8-4227-af4f-a93e22bb45da",
   "metadata": {},
   "source": [
    "#### Pre-processing and Training Data Development High-Level Steps\n",
    "1. Creating dummy features\n",
    "2. Scale standardization\n",
    "3. Split data into training and testing subsets\n",
    "\n",
    "Goal: Create a cleaned development dataset you can use to complete the\n",
    "modeling step of your project."
   ]
  }
 ],
 "metadata": {
  "kernelspec": {
   "display_name": "Python 3 (ipykernel)",
   "language": "python",
   "name": "python3"
  },
  "language_info": {
   "codemirror_mode": {
    "name": "ipython",
    "version": 3
   },
   "file_extension": ".py",
   "mimetype": "text/x-python",
   "name": "python",
   "nbconvert_exporter": "python",
   "pygments_lexer": "ipython3",
   "version": "3.11.7"
  }
 },
 "nbformat": 4,
 "nbformat_minor": 5
}
